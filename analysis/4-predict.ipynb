{
 "cells": [
  {
   "cell_type": "code",
   "execution_count": null,
   "metadata": {},
   "outputs": [],
   "source": [
    "# libs\n",
    "import sys\n",
    "import csv\n",
    "import time\n",
    "from glob import glob\n",
    "\n",
    "from tqdm import tqdm_notebook as tqdm\n",
    "\n",
    "import libs.bag_of_worder as bag_of_worder\n",
    "import libs.preprocessor as tweet_preproc"
   ]
  },
  {
   "cell_type": "markdown",
   "metadata": {},
   "source": [
    "## Load Model"
   ]
  },
  {
   "cell_type": "code",
   "execution_count": null,
   "metadata": {},
   "outputs": [],
   "source": [
    "from joblib import dump, load\n",
    "\n",
    "# Load Model\n",
    "try:\n",
    "    classifier = load('model/logistic.joblib') \n",
    "    print(\"Model loaded!\")\n",
    "\n",
    "except:\n",
    "    print(\"ERROR: Model not loaded\")"
   ]
  },
  {
   "cell_type": "markdown",
   "metadata": {},
   "source": [
    "## Load Dictionary"
   ]
  },
  {
   "cell_type": "code",
   "execution_count": null,
   "metadata": {},
   "outputs": [],
   "source": [
    "# Init dict\n",
    "wordDict = []\n",
    "\n",
    "path = \"model/dictionary.txt\"\n",
    "with open(path, 'r', newline='', encoding=\"utf-8\") as input_file:    \n",
    "    for row in input_file:\n",
    "        wordDict.append(row.strip())\n",
    "\n",
    "# Get the stats\n",
    "print(\"Dict Dimension: \" + str(len(wordDict)))"
   ]
  },
  {
   "cell_type": "markdown",
   "metadata": {},
   "source": [
    "## Load Objects"
   ]
  },
  {
   "cell_type": "code",
   "execution_count": null,
   "metadata": {},
   "outputs": [],
   "source": [
    "# Init Preprocessor\n",
    "twitterPreprocessor = tweet_preproc.TwitterPreprocessor()\n",
    "\n",
    "# Init Bag-of-Worder using the dictionary\n",
    "countBoW = bag_of_worder.BagOfWorder(wordDict)"
   ]
  },
  {
   "cell_type": "markdown",
   "metadata": {},
   "source": [
    "## Predict Functions"
   ]
  },
  {
   "cell_type": "code",
   "execution_count": null,
   "metadata": {},
   "outputs": [],
   "source": [
    "labels = {\n",
    "    \"-1\": \"neutral\", \n",
    "    \"0\": \"democrat\",\n",
    "    \"1\": \"republican\"\n",
    "}"
   ]
  },
  {
   "cell_type": "code",
   "execution_count": null,
   "metadata": {},
   "outputs": [],
   "source": [
    "def predictTweets(tweets,min_confidence=0.5):\n",
    "    \n",
    "    # Preprocess\n",
    "    tweets = twitterPreprocessor.preprocessAll(tweets)\n",
    "    \n",
    "    # Create a one hot matrix of the words in the tweet\n",
    "    oneHotTweets = countBoW.computeMatrix(tweets)\n",
    "    \n",
    "    preds = []\n",
    "    for oneHotTweet in oneHotTweets:\n",
    "        \n",
    "        prob_dem, prob_rep = classifier.predict_proba(oneHotTweet)[0]\n",
    "        \n",
    "        # Compare to min confidence level\n",
    "        if(prob_dem > min_confidence):\n",
    "            preds.append(0)\n",
    "        elif(prob_rep > min_confidence):\n",
    "            preds.append(1)\n",
    "        else:\n",
    "            preds.append(-1)\n",
    "\n",
    "            \n",
    "    # Make sure they are the same size\n",
    "    assert len(preds) == len(tweets)\n",
    "    \n",
    "    return preds\n",
    "\n",
    "\n",
    "def predictTweet(tweet,min_confidence=0.5):\n",
    "    \n",
    "    # Preprocess\n",
    "    tweet = twitterPreprocessor.preprocess(tweet)\n",
    "    \n",
    "    # Create a one hot matrix of the words in the tweet\n",
    "    oneHotTweet = countBoW.computeLine(tweet)\n",
    "    \n",
    "    # Check performance\n",
    "    prob_dem, prob_rep = classifier.predict_proba(oneHotTweet)[0]\n",
    "    \n",
    "    # Compare to min confidence level\n",
    "    if(prob_dem > min_confidence):\n",
    "        return 0\n",
    "    elif(prob_rep > min_confidence):\n",
    "        return 1\n",
    "    else:\n",
    "        return -1\n",
    "    "
   ]
  },
  {
   "cell_type": "markdown",
   "metadata": {},
   "source": [
    "## Load tweets"
   ]
  },
  {
   "cell_type": "code",
   "execution_count": null,
   "metadata": {},
   "outputs": [],
   "source": [
    "def file_len(fname):\n",
    "    \n",
    "    with open(fname) as f:\n",
    "        for i, l in enumerate(f):\n",
    "            pass\n",
    "    \n",
    "    nbrOfLines = i + 1\n",
    "    print(\"Nbr of lines : \" + str(nbrOfLines))\n",
    "    \n",
    "    return nbrOfLines"
   ]
  },
  {
   "cell_type": "code",
   "execution_count": null,
   "metadata": {},
   "outputs": [],
   "source": [
    "def predictFile(src_path,out_path,MIN_CONFIDENCE = 0.8):\n",
    "    \n",
    "    # Count number of tweets\n",
    "    nbr_tweets = file_len(src_path)\n",
    "\n",
    "    with open(out_path, 'w+', newline='', encoding=\"utf-8\") as outfile:\n",
    "        with open(src_path, 'r', newline='', encoding=\"utf-8\") as csvfile:\n",
    "\n",
    "            # init reader\n",
    "            reader = csv.reader(csvfile, quotechar='\"', delimiter=',')\n",
    "\n",
    "            # Taking the header of the file + the index of useful columns:\n",
    "            header = next(reader)\n",
    "            ind_createdAt = header.index('created_at')\n",
    "            ind_text = header.index('text')\n",
    "            ind_description = header.index('description')\n",
    "            ind_location = header.index('location')\n",
    "\n",
    "            # convert tweets file to list                \n",
    "            tweets = []\n",
    "            all_tweets = []\n",
    "            for row in reader:\n",
    "                    \n",
    "                # get data\n",
    "                created_at = row[ind_createdAt]\n",
    "                text = row[ind_text]\n",
    "                #description = row[ind_description]\n",
    "                location = row[ind_location]\n",
    "                \n",
    "                # append to lists\n",
    "                all_tweets.append([created_at,text,location])\n",
    "                tweets.append(text)\n",
    "\n",
    "            \n",
    "            # Predict all tweets\n",
    "            preds = predictTweets(tweets,min_confidence=MIN_CONFIDENCE)\n",
    "                        \n",
    "            # Write headers for first row\n",
    "            outfile.write('\"label\",\"created_at\",\"text\",\"location\"\\n')\n",
    "\n",
    "            # Init counter\n",
    "            tweet_counter = 0\n",
    "            \n",
    "            # Write to file\n",
    "            for i in tqdm(range(0,len(preds))):\n",
    "                \n",
    "                # Get pred\n",
    "                pred = preds[i]\n",
    "\n",
    "                # If failed skip\n",
    "                if(pred < 0):\n",
    "                    continue\n",
    "                    \n",
    "                # Get data                \n",
    "                created_at = all_tweets[i][0]\n",
    "                text = all_tweets[i][1]\n",
    "                #description = row[ind_description]\n",
    "                location = all_tweets[i][2]\n",
    "\n",
    "                # Write to file\n",
    "                rowData = [str(pred),created_at,text,location]\n",
    "                rowData = '\"' + '\",\"'.join(rowData) + '\"\\n'\n",
    "                outfile.write(rowData)\n",
    "\n",
    "                # increment counter\n",
    "                tweet_counter = tweet_counter + 1\n",
    "                    \n",
    "                \n",
    "            print(\"Nbr of tweets labeled: \" + str(tweet_counter))"
   ]
  },
  {
   "cell_type": "code",
   "execution_count": null,
   "metadata": {
    "scrolled": true
   },
   "outputs": [],
   "source": [
    "# Glob all the tweets csv\n",
    "filenames = glob(\"data/general/*/tweets.csv\")\n",
    "for fname in filenames:\n",
    "    \n",
    "    print(fname)\n",
    "    outpath = \"/\".join(fname.split(\"/\")[:-1]) + \"/predictions.csv\"\n",
    "    predictFile(fname, outpath,MIN_CONFIDENCE=0.85)"
   ]
  },
  {
   "cell_type": "code",
   "execution_count": null,
   "metadata": {},
   "outputs": [],
   "source": [
    "fname = 'data/general/2016-11-04/tweets.csv'\n",
    "    \n",
    "print(\"\\n\" + fname)\n",
    "outpath = \"/\".join(fname.split(\"/\")[:-1]) + \"/predictions.csv\"\n",
    "predictFile(fname, outpath,MIN_CONFIDENCE=0.95)"
   ]
  },
  {
   "cell_type": "code",
   "execution_count": null,
   "metadata": {},
   "outputs": [],
   "source": []
  },
  {
   "cell_type": "code",
   "execution_count": null,
   "metadata": {},
   "outputs": [],
   "source": []
  }
 ],
 "metadata": {
  "kernelspec": {
   "display_name": "Python 3",
   "language": "python",
   "name": "python3"
  },
  "language_info": {
   "codemirror_mode": {
    "name": "ipython",
    "version": 3
   },
   "file_extension": ".py",
   "mimetype": "text/x-python",
   "name": "python",
   "nbconvert_exporter": "python",
   "pygments_lexer": "ipython3",
   "version": "3.6.8"
  }
 },
 "nbformat": 4,
 "nbformat_minor": 2
}
