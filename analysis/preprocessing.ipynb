{
 "cells": [
  {
   "cell_type": "markdown",
   "metadata": {},
   "source": [
    "# Tweet Preprocessing"
   ]
  },
  {
   "cell_type": "code",
   "execution_count": null,
   "metadata": {},
   "outputs": [],
   "source": [
    "# libs\n",
    "import sys\n",
    "import csv\n",
    "import time\n",
    "\n",
    "from tqdm import tqdm_notebook as tqdm"
   ]
  },
  {
   "cell_type": "markdown",
   "metadata": {},
   "source": [
    "## Helpher Functions"
   ]
  },
  {
   "cell_type": "code",
   "execution_count": null,
   "metadata": {},
   "outputs": [],
   "source": [
    "def file_len(fname):\n",
    "    \n",
    "    with open(fname) as f:\n",
    "        for i, l in enumerate(f):\n",
    "            pass\n",
    "    \n",
    "    nbrOfLines = i + 1\n",
    "    print(\"Nbr of lines : \" + str(nbrOfLines))\n",
    "    \n",
    "    return nbrOfLines"
   ]
  },
  {
   "cell_type": "markdown",
   "metadata": {},
   "source": [
    "## Preprocessed"
   ]
  },
  {
   "cell_type": "code",
   "execution_count": null,
   "metadata": {},
   "outputs": [],
   "source": [
    "labels = ['democrat','republican','neutral']\n",
    "features = ['text','description']\n",
    "\n",
    "# We have the pro-democrat tweets and pro-republican tweets\n",
    "# Each of them are composed of tweets from the candidates and party twitter account\n",
    "democratic_path = \"databases/democratic/democratic.csv\"\n",
    "republican_path = \"databases/republican/republican.csv\"\n",
    "\n",
    "# We want to merge the two files with only the needed features & labels\n",
    "output_path = \"databases/sources.csv\"\n",
    "\n",
    "# Creation of the file that will contain the hydrated tweets:\n",
    "with open(output_path, 'w+', newline='', encoding=\"utf-8\") as output_file:\n",
    "    \n",
    "    # --- Democratic ---\n",
    "    with open(democratic_path, 'r', newline='', encoding=\"latin-1\") as input_file:\n",
    "\n",
    "        # init reader\n",
    "        reader = csv.reader(input_file, quotechar='\"', delimiter=',')\n",
    "\n",
    "        # Taking the header of the file + the index of useful columns:\n",
    "        header = next(reader)\n",
    "        ind_text = header.index('text')\n",
    "        ind_description = header.index('description')\n",
    "        \n",
    "        # Write headers for first row\n",
    "        output_file.write('\"label\",\"text\",\"description\"\\n')\n",
    "\n",
    "        # Go through input file\n",
    "        for row in reader:\n",
    "            \n",
    "            # Preprocess the content\n",
    "            text = clean_tweets(row[ind_text])\n",
    "            description = clean_tweets(row[ind_description])\n",
    "            \n",
    "            rowData = [\"democrat\",text,description]\n",
    "            rowData = '\"' + '\",\"'.join(rowData) + '\"\\n'\n",
    "            \n",
    "            # Write row\n",
    "            output_file.write(rowData)\n",
    "            \n",
    "    \n",
    "    # --- Republicains ---    \n",
    "    with open(republican_path, 'r', newline='', encoding=\"latin-1\") as input_file:\n",
    "\n",
    "        # init reader\n",
    "        reader = csv.reader(input_file, quotechar='\"', delimiter=',')\n",
    "\n",
    "        # Taking the header of the file + the index of useful columns:\n",
    "        header = next(reader)\n",
    "        ind_text = header.index('text')\n",
    "        ind_description = header.index('description')\n",
    "        \n",
    "        # Write headers for first row\n",
    "        output_file.write(\"label,text,description\\n\")\n",
    "\n",
    "        # Go through input file\n",
    "        for row in reader:\n",
    "            \n",
    "            # Preprocess the content\n",
    "            text = clean_tweets(row[ind_text])\n",
    "            description = clean_tweets(row[ind_description])\n",
    "            \n",
    "            rowData = [\"republican\",text,description]\n",
    "            rowData = '\"' + '\",\"'.join(rowData) + '\"\\n'\n",
    "            \n",
    "            # Write row\n",
    "            output_file.write(rowData)\n",
    "            "
   ]
  },
  {
   "cell_type": "markdown",
   "metadata": {},
   "source": [
    "## Stemmed"
   ]
  },
  {
   "cell_type": "code",
   "execution_count": null,
   "metadata": {},
   "outputs": [],
   "source": [
    "input_path = \"databases/sources.csv\"\n",
    "output_path = \"databases/stemmed.csv\"\n",
    "\n",
    "# Creation of the file that will contain the hydrated tweets:\n",
    "with open(output_path, 'w+', newline='', encoding=\"utf-8\") as output_file:\n",
    "    with open(input_path, 'r', newline='', encoding=\"utf-8\") as input_file:\n",
    "        \n",
    "        # init reader\n",
    "        reader = csv.reader(input_file, quotechar='\"', delimiter=',')\n",
    "\n",
    "        # Taking the header of the file + the index of useful columns:\n",
    "        header = next(reader)\n",
    "        ind_label = header.index('label')\n",
    "        ind_text = header.index('text')\n",
    "        ind_description = header.index('description')\n",
    "        \n",
    "        # Write headers\n",
    "        output_file.write('\"label\",\"text\"\\n')\n",
    "        \n",
    "        # Init stemmer\n",
    "        stemmer = Stemmer()\n",
    "        \n",
    "        # Go through input file\n",
    "        for row in reader:\n",
    "            \n",
    "            # Get the content\n",
    "            label = row[ind_label]\n",
    "            text = row[ind_text]\n",
    "            \n",
    "            # Make sure there is no punctuation\n",
    "            text = ''.join([c for c in text if c not in string.punctuation])\n",
    "            \n",
    "            # Tokenize\n",
    "            text_tokens = word_tokenize(text)            \n",
    "            \n",
    "            # Stem\n",
    "            stems = stemmer.stem(text_tokens)\n",
    "            \n",
    "            # Join stems\n",
    "            stems = \" \".join(stems)\n",
    "            \n",
    "            # Write row            \n",
    "            rowData = [label,stems]\n",
    "            rowData = '\"' + '\",\"'.join(rowData) + '\"\\n'\n",
    "            \n",
    "            # Write row\n",
    "            output_file.write(rowData)\n",
    "            "
   ]
  }
 ],
 "metadata": {
  "kernelspec": {
   "display_name": "Python 3",
   "language": "python",
   "name": "python3"
  },
  "language_info": {
   "codemirror_mode": {
    "name": "ipython",
    "version": 3
   },
   "file_extension": ".py",
   "mimetype": "text/x-python",
   "name": "python",
   "nbconvert_exporter": "python",
   "pygments_lexer": "ipython3",
   "version": "3.6.8"
  }
 },
 "nbformat": 4,
 "nbformat_minor": 2
}
