{
 "cells": [
  {
   "cell_type": "markdown",
   "metadata": {},
   "source": [
    "# Parties/Candidates Tweet Preprocessing"
   ]
  },
  {
   "cell_type": "markdown",
   "metadata": {},
   "source": [
    "We are using the candidates and parties twitter accounts as our labeled dataset. In this notebook we take the output of our hydrater (see mining.ipynb) and we convert the it to a labeled 3 dataset"
   ]
  },
  {
   "cell_type": "code",
   "execution_count": null,
   "metadata": {},
   "outputs": [],
   "source": [
    "# libs\n",
    "import sys\n",
    "import csv"
   ]
  },
  {
   "cell_type": "code",
   "execution_count": null,
   "metadata": {},
   "outputs": [],
   "source": [
    "import libs.preprocessor as tweet_preproc"
   ]
  },
  {
   "cell_type": "code",
   "execution_count": null,
   "metadata": {},
   "outputs": [],
   "source": [
    "# Init Preprocessor\n",
    "twitterPreprocessor = tweet_preproc.TwitterPreprocessor()"
   ]
  },
  {
   "cell_type": "markdown",
   "metadata": {},
   "source": [
    "## Helpher Functions"
   ]
  },
  {
   "cell_type": "code",
   "execution_count": null,
   "metadata": {},
   "outputs": [],
   "source": [
    "def file_len(fname):\n",
    "    \n",
    "    with open(fname) as f:\n",
    "        for i, l in enumerate(f):\n",
    "            pass\n",
    "    \n",
    "    nbrOfLines = i + 1\n",
    "    print(\"Nbr of lines : \" + str(nbrOfLines))\n",
    "    \n",
    "    return nbrOfLines"
   ]
  },
  {
   "cell_type": "markdown",
   "metadata": {},
   "source": [
    "## Preprocessed"
   ]
  },
  {
   "cell_type": "code",
   "execution_count": null,
   "metadata": {},
   "outputs": [],
   "source": [
    "labels = ['democrat','republican','neutral']\n",
    "features = ['text']\n",
    "\n",
    "# We have the pro-democrat tweets and pro-republican tweets\n",
    "# Each of them are composed of tweets from the candidates and party twitter account\n",
    "democratic_path = \"data/parties_candidates/democratic/democratic.csv\"\n",
    "republican_path = \"data/parties_candidates/republican/republican.csv\"\n",
    "\n",
    "# We want to merge the two files with only the needed eatures & labels\n",
    "output_path = \"data/parties_candidates/sources.csv\"\n",
    "\n",
    "# Creation of the file that will contain the hydrated tweets:\n",
    "with open(output_path, 'w+', newline='', encoding=\"utf-8\") as output_file:\n",
    "    \n",
    "    # --- Democratic ---\n",
    "    with open(democratic_path, 'r', newline='', encoding=\"latin-1\") as input_file:\n",
    "\n",
    "        # init reader\n",
    "        reader = csv.reader(input_file, quotechar='\"', delimiter=',')\n",
    "\n",
    "        # Taking the header of the file + the index of useful columns:\n",
    "        header = next(reader)\n",
    "        ind_text = header.index('text')\n",
    "        \n",
    "        # Write headers for first row\n",
    "        output_file.write('\"label\",\"text\"\\n')\n",
    "\n",
    "        # Go through input file\n",
    "        for row in reader:\n",
    "            \n",
    "            # Preprocess the content\n",
    "            text = twitterPreprocessor.preprocess(row[ind_text])\n",
    "            \n",
    "            rowData = [\"democrat\",text]\n",
    "            rowData = '\"' + '\",\"'.join(rowData) + '\"\\n'\n",
    "            \n",
    "            # Write row\n",
    "            output_file.write(rowData)\n",
    "            \n",
    "    \n",
    "    # --- Republicains ---    \n",
    "    with open(republican_path, 'r', newline='', encoding=\"latin-1\") as input_file:\n",
    "\n",
    "        # init reader\n",
    "        reader = csv.reader(input_file, quotechar='\"', delimiter=',')\n",
    "\n",
    "        # Taking the header of the file + the index of useful columns:\n",
    "        header = next(reader)\n",
    "        ind_text = header.index('text')\n",
    "        \n",
    "        # Write headers for first row\n",
    "        output_file.write('\"label\",\"text\"\\n')\n",
    "\n",
    "        # Go through input file\n",
    "        for row in reader:\n",
    "            \n",
    "            # Preprocess the content\n",
    "            text = twitterPreprocessor.preprocess(row[ind_text])\n",
    "            \n",
    "            rowData = [\"republican\",text]\n",
    "            rowData = '\"' + '\",\"'.join(rowData) + '\"\\n'\n",
    "            \n",
    "            # Write row\n",
    "            output_file.write(rowData)\n",
    "            "
   ]
  }
 ],
 "metadata": {
  "kernelspec": {
   "display_name": "Python 3",
   "language": "python",
   "name": "python3"
  },
  "language_info": {
   "codemirror_mode": {
    "name": "ipython",
    "version": 3
   },
   "file_extension": ".py",
   "mimetype": "text/x-python",
   "name": "python",
   "nbconvert_exporter": "python",
   "pygments_lexer": "ipython3",
   "version": "3.6.8"
  }
 },
 "nbformat": 4,
 "nbformat_minor": 2
}
